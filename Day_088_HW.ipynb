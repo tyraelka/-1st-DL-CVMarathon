{
 "cells": [
  {
   "cell_type": "markdown",
   "metadata": {},
   "source": [
    "## Work\n",
    "1. 請嘗試寫一個 callback 用來記錄各類別在訓練過程中，對驗證集的 True Positive 與 True Negative"
   ]
  },
  {
   "cell_type": "code",
   "execution_count": 1,
   "metadata": {},
   "outputs": [],
   "source": [
    "# import os\n",
    "import keras\n",
    "\n",
    "# Disable GPU\n",
    "# os.environ[\"CUDA_VISIBLE_DEVICES\"] = \"\""
   ]
  },
  {
   "cell_type": "code",
   "execution_count": 2,
   "metadata": {},
   "outputs": [],
   "source": [
    "train, test = keras.datasets.cifar10.load_data()"
   ]
  },
  {
   "cell_type": "code",
   "execution_count": 3,
   "metadata": {},
   "outputs": [],
   "source": [
    "## 資料前處理\n",
    "def preproc_x(x, flatten=True):\n",
    "    x = x / 255.\n",
    "    if flatten:\n",
    "        x = x.reshape((len(x), -1))\n",
    "    return x\n",
    "\n",
    "def preproc_y(y, num_classes=10):\n",
    "    if y.shape[-1] == 1:\n",
    "        y = keras.utils.to_categorical(y, num_classes)\n",
    "    return y    "
   ]
  },
  {
   "cell_type": "code",
   "execution_count": 4,
   "metadata": {},
   "outputs": [],
   "source": [
    "x_train, y_train = train\n",
    "x_test, y_test = test\n",
    "\n",
    "# Preproc the inputs\n",
    "x_train = preproc_x(x_train)\n",
    "x_test = preproc_x(x_test)\n",
    "\n",
    "# Preprc the outputs\n",
    "y_train = preproc_y(y_train)\n",
    "y_test = preproc_y(y_test)"
   ]
  },
  {
   "cell_type": "code",
   "execution_count": 6,
   "metadata": {},
   "outputs": [],
   "source": [
    "from keras.layers import BatchNormalization\n",
    "def build_mlp(input_shape, output_units=10, num_neurons=[256, 256, 256]):\n",
    "    \"\"\"Code Here\n",
    "    建立你的神經網路\n",
    "    \"\"\"\n",
    "    input_layer = keras.layers.Input(input_shape)\n",
    "    \n",
    "    for i, n_units in enumerate(num_neurons):\n",
    "        if i == 0:\n",
    "            x = keras.layers.Dense(units=n_units, activation = \"relu\",\n",
    "                                   name = \"hidden_layer\"+str(i+1))(input_layer)\n",
    "            x = BatchNormalization()(x)\n",
    "        else:\n",
    "            x = keras.layers.Dense(units=n_units, activation=\"relu\",\n",
    "                                   name = \"hidden_layer\"+str(i+1))(x)\n",
    "            x = BatchNormalization()(x)\n",
    "    out = keras.layers.Dense(units=output_units, activation=\"softmax\",\n",
    "                             name = \"outputlayer\")(x)\n",
    "    model = keras.models.Model(inputs=[input_layer], outputs=[out])\n",
    "    \n",
    "    return model"
   ]
  },
  {
   "cell_type": "code",
   "execution_count": 7,
   "metadata": {},
   "outputs": [],
   "source": [
    "## 超參數設定\n",
    "LEARNING_RATE = 1e-3\n",
    "EPOCHS = 25\n",
    "BATCH_SIZE = 1024\n",
    "MOMENTUM = 0.95"
   ]
  },
  {
   "cell_type": "code",
   "execution_count": 8,
   "metadata": {},
   "outputs": [],
   "source": [
    "# 載入 Callbacks\n",
    "from keras.callbacks import Callback\n",
    "\n",
    "# Record_tp_tn\n",
    "class Record_tp_tn(Callback):\n",
    "    \"\"\"Code Here\n",
    "    撰寫一個紀錄 ture positive 與 true negative 數量的 callbacks    \n",
    "    \"\"\"\n",
    "    def __init__(self, valid_data=(x_test, y_test)):\n",
    "        self.validation_data = valid_data\n",
    "        \n",
    "    def on_train_begin(self, epoch, logs = {}):\n",
    "        logs = logs or {}\n",
    "        record_items = [\"val_tp\", \"val_tn\"]\n",
    "        for i in record_items:\n",
    "            try:\n",
    "                if i not in self.params[\"metrics\"]:\n",
    "                    self.params[\"metrics\"].append(i)\n",
    "            except:\n",
    "                self.params[\"metrics\"] = i\n",
    "                \n",
    "    def on_epoch_end(self, epoch, logs={}, thres = 0.5):\n",
    "        logs = logs or {}\n",
    "        y_true = self.validation_data[1].argmax(axis = 1)\n",
    "        y_pred = self.model.predict(self.validation_data[0])\n",
    "        y_pred = (y_pred[:, 1] >= thres) *1\n",
    "        \n",
    "        val_tp = sum(y_true * y_pred)\n",
    "        val_tn = sum((y_true == 0) & (y_pred == 0))\n",
    "        logs[\"val_tp\"] = val_tp\n",
    "        logs[\"val_tn\"] = val_tn   \n",
    "        \n",
    "rec_tptn = Record_tp_tn()"
   ]
  },
  {
   "cell_type": "code",
   "execution_count": 10,
   "metadata": {
    "scrolled": true
   },
   "outputs": [
    {
     "name": "stdout",
     "output_type": "stream",
     "text": [
      "Model: \"model_1\"\n",
      "_________________________________________________________________\n",
      "Layer (type)                 Output Shape              Param #   \n",
      "=================================================================\n",
      "input_2 (InputLayer)         [(None, 3072)]            0         \n",
      "_________________________________________________________________\n",
      "hidden_layer1 (Dense)        (None, 256)               786688    \n",
      "_________________________________________________________________\n",
      "batch_normalization_3 (Batch (None, 256)               1024      \n",
      "_________________________________________________________________\n",
      "hidden_layer2 (Dense)        (None, 256)               65792     \n",
      "_________________________________________________________________\n",
      "batch_normalization_4 (Batch (None, 256)               1024      \n",
      "_________________________________________________________________\n",
      "hidden_layer3 (Dense)        (None, 256)               65792     \n",
      "_________________________________________________________________\n",
      "batch_normalization_5 (Batch (None, 256)               1024      \n",
      "_________________________________________________________________\n",
      "outputlayer (Dense)          (None, 10)                2570      \n",
      "=================================================================\n",
      "Total params: 923,914\n",
      "Trainable params: 922,378\n",
      "Non-trainable params: 1,536\n",
      "_________________________________________________________________\n",
      "Epoch 1/25\n",
      "49/49 [==============================] - 3s 38ms/step - loss: 2.5380 - accuracy: 0.1956 - val_loss: 2.1470 - val_accuracy: 0.2143\n",
      "Epoch 2/25\n",
      "49/49 [==============================] - 2s 31ms/step - loss: 1.7909 - accuracy: 0.3773 - val_loss: 1.9863 - val_accuracy: 0.2873\n",
      "Epoch 3/25\n",
      "49/49 [==============================] - 2s 31ms/step - loss: 1.6480 - accuracy: 0.4227 - val_loss: 1.8514 - val_accuracy: 0.3545\n",
      "Epoch 4/25\n",
      "49/49 [==============================] - 2s 32ms/step - loss: 1.5689 - accuracy: 0.4484 - val_loss: 1.7245 - val_accuracy: 0.3998\n",
      "Epoch 5/25\n",
      "49/49 [==============================] - 2s 31ms/step - loss: 1.5076 - accuracy: 0.4712 - val_loss: 1.6435 - val_accuracy: 0.4310\n",
      "Epoch 6/25\n",
      "49/49 [==============================] - 2s 32ms/step - loss: 1.4664 - accuracy: 0.4877 - val_loss: 1.5827 - val_accuracy: 0.4490\n",
      "Epoch 7/25\n",
      "49/49 [==============================] - 2s 32ms/step - loss: 1.4251 - accuracy: 0.5008 - val_loss: 1.5636 - val_accuracy: 0.4495\n",
      "Epoch 8/25\n",
      "49/49 [==============================] - 2s 31ms/step - loss: 1.3998 - accuracy: 0.5106 - val_loss: 1.5367 - val_accuracy: 0.4588\n",
      "Epoch 9/25\n",
      "49/49 [==============================] - 2s 33ms/step - loss: 1.3691 - accuracy: 0.5207 - val_loss: 1.5246 - val_accuracy: 0.4602\n",
      "Epoch 10/25\n",
      "49/49 [==============================] - 2s 33ms/step - loss: 1.3420 - accuracy: 0.5327 - val_loss: 1.5065 - val_accuracy: 0.4683\n",
      "Epoch 11/25\n",
      "49/49 [==============================] - 2s 31ms/step - loss: 1.3210 - accuracy: 0.5370 - val_loss: 1.4977 - val_accuracy: 0.4718\n",
      "Epoch 12/25\n",
      "49/49 [==============================] - 2s 32ms/step - loss: 1.3019 - accuracy: 0.5513 - val_loss: 1.4954 - val_accuracy: 0.4724\n",
      "Epoch 13/25\n",
      "49/49 [==============================] - 2s 32ms/step - loss: 1.2682 - accuracy: 0.5592 - val_loss: 1.4796 - val_accuracy: 0.4770\n",
      "Epoch 14/25\n",
      "49/49 [==============================] - 2s 32ms/step - loss: 1.2451 - accuracy: 0.5694 - val_loss: 1.4818 - val_accuracy: 0.4776\n",
      "Epoch 15/25\n",
      "49/49 [==============================] - 2s 32ms/step - loss: 1.2251 - accuracy: 0.5754 - val_loss: 1.4730 - val_accuracy: 0.4813\n",
      "Epoch 16/25\n",
      "49/49 [==============================] - 2s 32ms/step - loss: 1.2059 - accuracy: 0.5824 - val_loss: 1.4612 - val_accuracy: 0.4844\n",
      "Epoch 17/25\n",
      "49/49 [==============================] - 2s 32ms/step - loss: 1.1880 - accuracy: 0.5901 - val_loss: 1.4602 - val_accuracy: 0.4831\n",
      "Epoch 18/25\n",
      "49/49 [==============================] - 2s 32ms/step - loss: 1.1684 - accuracy: 0.5959 - val_loss: 1.4632 - val_accuracy: 0.4883\n",
      "Epoch 19/25\n",
      "49/49 [==============================] - 2s 32ms/step - loss: 1.1484 - accuracy: 0.6032 - val_loss: 1.4460 - val_accuracy: 0.4854\n",
      "Epoch 20/25\n",
      "49/49 [==============================] - 2s 32ms/step - loss: 1.1247 - accuracy: 0.6154 - val_loss: 1.4475 - val_accuracy: 0.4924\n",
      "Epoch 21/25\n",
      "49/49 [==============================] - 2s 32ms/step - loss: 1.1106 - accuracy: 0.6177 - val_loss: 1.4440 - val_accuracy: 0.4936\n",
      "Epoch 22/25\n",
      "49/49 [==============================] - 2s 32ms/step - loss: 1.0906 - accuracy: 0.6243 - val_loss: 1.4544 - val_accuracy: 0.4876\n",
      "Epoch 23/25\n",
      "49/49 [==============================] - 2s 32ms/step - loss: 1.0744 - accuracy: 0.6303 - val_loss: 1.4601 - val_accuracy: 0.4848\n",
      "Epoch 24/25\n",
      "49/49 [==============================] - 2s 32ms/step - loss: 1.0603 - accuracy: 0.6354 - val_loss: 1.4432 - val_accuracy: 0.4982\n",
      "Epoch 25/25\n",
      "49/49 [==============================] - 2s 32ms/step - loss: 1.0472 - accuracy: 0.6411 - val_loss: 1.4510 - val_accuracy: 0.4953\n"
     ]
    }
   ],
   "source": [
    "model = build_mlp(input_shape=x_train.shape[1:])\n",
    "model.summary()\n",
    "optimizer = keras.optimizers.SGD(lr=LEARNING_RATE, nesterov=True, momentum=MOMENTUM)\n",
    "model.compile(loss=\"categorical_crossentropy\", metrics=[\"accuracy\"], optimizer=optimizer)\n",
    "\n",
    "\"\"\"Code Here\n",
    "將 callbacks 放入模型訓練流程中\n",
    "\"\"\"\n",
    "model.fit(x_train, y_train, epochs = EPOCHS, batch_size = BATCH_SIZE,\n",
    "          validation_data = (x_test, y_test), shuffle = True,\n",
    "          callbacks=[rec_tptn])\n",
    "\n",
    "# Collect results\n",
    "train_loss = model.history.history[\"loss\"]\n",
    "valid_loss = model.history.history[\"val_loss\"]\n",
    "train_acc = model.history.history[\"accuracy\"]\n",
    "valid_acc = model.history.history[\"val_accuracy\"]\n",
    "\n",
    "\"\"\"Code Here\n",
    "將 tp/tn 從訓練完的模型中取出\n",
    "\"\"\"\n",
    "valid_tp = model.history.history[\"val_tp\"]\n",
    "valid_tn = model.history.history[\"val_tn\"]"
   ]
  },
  {
   "cell_type": "code",
   "execution_count": 11,
   "metadata": {},
   "outputs": [
    {
     "data": {
      "image/png": "[encoded data removed]",
      "text/plain": [
       "<Figure size 432x288 with 1 Axes>"
      ]
     },
     "metadata": {
      "needs_background": "light"
     },
     "output_type": "display_data"
    },
    {
     "data": {
      "image/png": "[encoded data removed]",
      "text/plain": [
       "<Figure size 432x288 with 1 Axes>"
      ]
     },
     "metadata": {
      "needs_background": "light"
     },
     "output_type": "display_data"
    },
    {
     "data": {
      "image/png": "[encoded data removed]",
      "text/plain": [
       "<Figure size 432x288 with 1 Axes>"
      ]
     },
     "metadata": {
      "needs_background": "light"
     },
     "output_type": "display_data"
    }
   ],
   "source": [
    "import matplotlib.pyplot as plt\n",
    "%matplotlib inline\n",
    "\n",
    "plt.plot(range(len(train_loss)), train_loss, label=\"train loss\")\n",
    "plt.plot(range(len(valid_loss)), valid_loss, label=\"valid loss\")\n",
    "plt.legend()\n",
    "plt.title(\"Loss\")\n",
    "plt.show()\n",
    "\n",
    "plt.plot(range(len(train_acc)), train_acc, label=\"train accuracy\")\n",
    "plt.plot(range(len(valid_acc)), valid_acc, label=\"valid accuracy\")\n",
    "plt.legend()\n",
    "plt.title(\"Accuracy\")\n",
    "plt.show()\n",
    "\n",
    "plt.plot(range(len(valid_tp)), valid_tp, label=\"valid tp\", color=\"navy\")\n",
    "plt.plot(range(len(valid_tn)), valid_tn, label=\"valid tn\", color=\"red\")\n",
    "plt.legend()\n",
    "plt.title(\"True positives and True Negatives\")\n",
    "plt.show()\n"
   ]
  },
  {
   "cell_type": "code",
   "execution_count": null,
   "metadata": {},
   "outputs": [],
   "source": []
  }
 ],
 "metadata": {
  "kernelspec": {
   "display_name": "Python 3",
   "language": "python",
   "name": "python3"
  },
  "language_info": {
   "codemirror_mode": {
    "name": "ipython",
    "version": 3
   },
   "file_extension": ".py",
   "mimetype": "text/x-python",
   "name": "python",
   "nbconvert_exporter": "python",
   "pygments_lexer": "ipython3",
   "version": "3.8.5"
  }
 },
 "nbformat": 4,
 "nbformat_minor": 2
}
