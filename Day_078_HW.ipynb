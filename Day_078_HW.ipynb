{
 "cells": [
  {
   "cell_type": "markdown",
   "metadata": {},
   "source": [
    "## Work\n",
    "1. 請嘗試將 preproc_x 替換成以每筆資料的 min/max 進行標準化至 -1 ~ 1 間，再進行訓練\n",
    "2. 請嘗試將 mlp 疊更深 (e.g 5~10 層)，進行訓練後觀察 learning curve 的走勢\n",
    "3. (optional) 請改用 GPU 進行訓練 (如果你有 GPU 的話)，比較使用 CPU 與 GPU 的訓練速度"
   ]
  },
  {
   "cell_type": "code",
   "execution_count": 1,
   "metadata": {},
   "outputs": [],
   "source": [
    "## \n",
    "\"\"\"\n",
    "Your code here (optional)\n",
    "確認硬體資源\n",
    "\"\"\"\n"
   ]
  },
  {
   "cell_type": "code",
   "execution_count": 2,
   "metadata": {},
   "outputs": [],
   "source": [
    "import os\n",
    "import keras\n",
    "\n",
    "# 請嘗試設定 GPU：os.environ\n"
   ]
  },
  {
   "cell_type": "code",
   "execution_count": 3,
   "metadata": {},
   "outputs": [],
   "source": [
    "train, test = keras.datasets.cifar10.load_data()"
   ]
  },
  {
   "cell_type": "code",
   "execution_count": 4,
   "metadata": {},
   "outputs": [],
   "source": [
    "## 資料前處理\n",
    "\"\"\"\n",
    "Your code here\n",
    "\"\"\"\n",
    "def preproc_x(x, flatten = True):\n",
    "    x = x / 255.\n",
    "    if flatten:\n",
    "        x = x.reshape((len(x), -1))\n",
    "    return x\n",
    "\n",
    "def preproc_y(y, num_classes = 10):\n",
    "    if y.shape[-1] == 1:\n",
    "        y = keras.utils.to_categorical(y, num_classes)\n",
    "    return y\n",
    "    "
   ]
  },
  {
   "cell_type": "code",
   "execution_count": 5,
   "metadata": {},
   "outputs": [],
   "source": [
    "x_train, y_train = train\n",
    "x_test, y_test = test\n",
    "\n",
    "# Preproc the inputs\n",
    "x_train = preproc_x(x_train)\n",
    "x_test = preproc_x(x_test)\n",
    "\n",
    "# Preprc the outputs\n",
    "y_train = preproc_y(y_train)\n",
    "y_test = preproc_y(y_test)"
   ]
  },
  {
   "cell_type": "code",
   "execution_count": 8,
   "metadata": {},
   "outputs": [
    {
     "name": "stdout",
     "output_type": "stream",
     "text": [
      "Model: \"model_1\"\n",
      "_________________________________________________________________\n",
      "Layer (type)                 Output Shape              Param #   \n",
      "=================================================================\n",
      "input_2 (InputLayer)         (None, 3072)              0         \n",
      "_________________________________________________________________\n",
      "hidden_layer1 (Dense)        (None, 512)               1573376   \n",
      "_________________________________________________________________\n",
      "hidden_layer2 (Dense)        (None, 512)               262656    \n",
      "_________________________________________________________________\n",
      "hidden_layer3 (Dense)        (None, 256)               131328    \n",
      "_________________________________________________________________\n",
      "hidden_layer4 (Dense)        (None, 256)               65792     \n",
      "_________________________________________________________________\n",
      "hidden_layer5 (Dense)        (None, 256)               65792     \n",
      "_________________________________________________________________\n",
      "hidden_layer6 (Dense)        (None, 256)               65792     \n",
      "_________________________________________________________________\n",
      "hidden_layer7 (Dense)        (None, 128)               32896     \n",
      "_________________________________________________________________\n",
      "hidden_layer8 (Dense)        (None, 128)               16512     \n",
      "_________________________________________________________________\n",
      "hidden_layer9 (Dense)        (None, 128)               16512     \n",
      "_________________________________________________________________\n",
      "hidden_layer10 (Dense)       (None, 128)               16512     \n",
      "_________________________________________________________________\n",
      "output (Dense)               (None, 10)                1290      \n",
      "=================================================================\n",
      "Total params: 2,248,458\n",
      "Trainable params: 2,248,458\n",
      "Non-trainable params: 0\n",
      "_________________________________________________________________\n"
     ]
    }
   ],
   "source": [
    "\"\"\"Code Here\n",
    "建立你的神經網路\n",
    "\"\"\"\n",
    "def build_mlp(input_shape, output_units=10, num_neurons=[512, 512, 256,\n",
    "                                                         256, 256, 256, \n",
    "                                                         128, 128, 128, 128]):\n",
    "    input_layer = keras.layers.Input(input_shape)\n",
    "    \n",
    "    for i, n_units in enumerate(num_neurons):\n",
    "        if i ==0:\n",
    "            x = keras.layers.Dense(units=n_units, activation=\"relu\", name = \"hidden_layer\"+str(i+1))(input_layer)\n",
    "        else:\n",
    "            x = keras.layers.Dense(units=n_units, activation=\"relu\", name = \"hidden_layer\"+str(i+1))(x)\n",
    "    out = keras.layers.Dense(units = output_units, activation = \"softmax\", name = \"output\")(x)\n",
    "                                                                                            \n",
    "    model = keras.models.Model(inputs = [input_layer], outputs = [out])\n",
    "    return model            \n",
    "\n",
    "model = build_mlp(input_shape=x_train.shape[1:])                                                                                            \n",
    "model.summary()"
   ]
  },
  {
   "cell_type": "code",
   "execution_count": 9,
   "metadata": {},
   "outputs": [],
   "source": [
    "## 超參數設定\n",
    "LEARNING_RATE = 0.001\n",
    "EPOCHS = 100\n",
    "BATCH_SIZE = 256"
   ]
  },
  {
   "cell_type": "code",
   "execution_count": 10,
   "metadata": {},
   "outputs": [],
   "source": [
    "optimizer = keras.optimizers.Adam(lr=LEARNING_RATE)\n",
    "model.compile(loss=\"categorical_crossentropy\", metrics=[\"accuracy\"], optimizer=optimizer)"
   ]
  },
  {
   "cell_type": "code",
   "execution_count": 11,
   "metadata": {},
   "outputs": [
    {
     "name": "stdout",
     "output_type": "stream",
     "text": [
      "WARNING:tensorflow:From C:\\ProgramData\\Anaconda3\\lib\\site-packages\\keras\\backend\\tensorflow_backend.py:422: The name tf.global_variables is deprecated. Please use tf.compat.v1.global_variables instead.\n",
      "\n",
      "Train on 50000 samples, validate on 10000 samples\n",
      "Epoch 1/100\n",
      "50000/50000 [==============================] - 7s 146us/step - loss: 2.0104 - accuracy: 0.2383 - val_loss: 1.8329 - val_accuracy: 0.3341\n",
      "Epoch 2/100\n",
      "50000/50000 [==============================] - 7s 140us/step - loss: 1.8012 - accuracy: 0.3415 - val_loss: 1.7711 - val_accuracy: 0.3543\n",
      "Epoch 3/100\n",
      "50000/50000 [==============================] - 7s 148us/step - loss: 1.7218 - accuracy: 0.3739 - val_loss: 1.6849 - val_accuracy: 0.3864\n",
      "Epoch 4/100\n",
      "50000/50000 [==============================] - 7s 147us/step - loss: 1.6557 - accuracy: 0.4027 - val_loss: 1.6209 - val_accuracy: 0.4126\n",
      "Epoch 5/100\n",
      "50000/50000 [==============================] - 7s 146us/step - loss: 1.5817 - accuracy: 0.4281 - val_loss: 1.5778 - val_accuracy: 0.4364\n",
      "Epoch 6/100\n",
      "50000/50000 [==============================] - 7s 141us/step - loss: 1.5395 - accuracy: 0.4465 - val_loss: 1.5393 - val_accuracy: 0.4466\n",
      "Epoch 7/100\n",
      "50000/50000 [==============================] - 7s 143us/step - loss: 1.5013 - accuracy: 0.4613 - val_loss: 1.5740 - val_accuracy: 0.4410\n",
      "Epoch 8/100\n",
      "50000/50000 [==============================] - 7s 143us/step - loss: 1.4600 - accuracy: 0.4770 - val_loss: 1.4820 - val_accuracy: 0.4754\n",
      "Epoch 9/100\n",
      "50000/50000 [==============================] - 7s 137us/step - loss: 1.4251 - accuracy: 0.4892 - val_loss: 1.4689 - val_accuracy: 0.4797\n",
      "Epoch 10/100\n",
      "50000/50000 [==============================] - 7s 137us/step - loss: 1.3992 - accuracy: 0.4981 - val_loss: 1.4346 - val_accuracy: 0.4853\n",
      "Epoch 11/100\n",
      "50000/50000 [==============================] - 7s 136us/step - loss: 1.3763 - accuracy: 0.5050 - val_loss: 1.4538 - val_accuracy: 0.4863\n",
      "Epoch 12/100\n",
      "50000/50000 [==============================] - 7s 141us/step - loss: 1.3348 - accuracy: 0.5203 - val_loss: 1.4450 - val_accuracy: 0.4898\n",
      "Epoch 13/100\n",
      "50000/50000 [==============================] - 7s 131us/step - loss: 1.3151 - accuracy: 0.5294 - val_loss: 1.4600 - val_accuracy: 0.4788\n",
      "Epoch 14/100\n",
      "50000/50000 [==============================] - 7s 133us/step - loss: 1.2933 - accuracy: 0.5360 - val_loss: 1.4232 - val_accuracy: 0.4989\n",
      "Epoch 15/100\n",
      "50000/50000 [==============================] - 7s 135us/step - loss: 1.2630 - accuracy: 0.5496 - val_loss: 1.4370 - val_accuracy: 0.5004\n",
      "Epoch 16/100\n",
      "50000/50000 [==============================] - 7s 134us/step - loss: 1.2369 - accuracy: 0.5598 - val_loss: 1.4151 - val_accuracy: 0.5040\n",
      "Epoch 17/100\n",
      "50000/50000 [==============================] - 6s 130us/step - loss: 1.2207 - accuracy: 0.5639 - val_loss: 1.3990 - val_accuracy: 0.5120\n",
      "Epoch 18/100\n",
      "50000/50000 [==============================] - 7s 135us/step - loss: 1.1812 - accuracy: 0.5795 - val_loss: 1.4110 - val_accuracy: 0.5094\n",
      "Epoch 19/100\n",
      "50000/50000 [==============================] - 7s 139us/step - loss: 1.1554 - accuracy: 0.5882 - val_loss: 1.4129 - val_accuracy: 0.5130\n",
      "Epoch 20/100\n",
      "50000/50000 [==============================] - 7s 138us/step - loss: 1.1330 - accuracy: 0.5960 - val_loss: 1.4016 - val_accuracy: 0.5207\n",
      "Epoch 21/100\n",
      "50000/50000 [==============================] - 7s 135us/step - loss: 1.1133 - accuracy: 0.6053 - val_loss: 1.4580 - val_accuracy: 0.5106\n",
      "Epoch 22/100\n",
      "50000/50000 [==============================] - 7s 133us/step - loss: 1.0875 - accuracy: 0.6128 - val_loss: 1.4576 - val_accuracy: 0.5183\n",
      "Epoch 23/100\n",
      "50000/50000 [==============================] - 7s 139us/step - loss: 1.0404 - accuracy: 0.6298 - val_loss: 1.5215 - val_accuracy: 0.5071\n",
      "Epoch 24/100\n",
      "50000/50000 [==============================] - 7s 137us/step - loss: 1.0234 - accuracy: 0.6328 - val_loss: 1.4671 - val_accuracy: 0.5203\n",
      "Epoch 25/100\n",
      "50000/50000 [==============================] - 7s 136us/step - loss: 0.9867 - accuracy: 0.6475 - val_loss: 1.4624 - val_accuracy: 0.5176\n",
      "Epoch 26/100\n",
      "50000/50000 [==============================] - 7s 137us/step - loss: 0.9622 - accuracy: 0.6554 - val_loss: 1.5589 - val_accuracy: 0.5125\n",
      "Epoch 27/100\n",
      "50000/50000 [==============================] - 7s 132us/step - loss: 0.9483 - accuracy: 0.6612 - val_loss: 1.5527 - val_accuracy: 0.5084\n",
      "Epoch 28/100\n",
      "50000/50000 [==============================] - 7s 135us/step - loss: 0.9001 - accuracy: 0.6763 - val_loss: 1.5755 - val_accuracy: 0.4990\n",
      "Epoch 29/100\n",
      "50000/50000 [==============================] - 7s 138us/step - loss: 0.9060 - accuracy: 0.6773 - val_loss: 1.5513 - val_accuracy: 0.5192\n",
      "Epoch 30/100\n",
      "50000/50000 [==============================] - 7s 131us/step - loss: 0.8495 - accuracy: 0.6959 - val_loss: 1.6334 - val_accuracy: 0.5025\n",
      "Epoch 31/100\n",
      "50000/50000 [==============================] - 7s 133us/step - loss: 0.8336 - accuracy: 0.7028 - val_loss: 1.6269 - val_accuracy: 0.5192\n",
      "Epoch 32/100\n",
      "50000/50000 [==============================] - 7s 132us/step - loss: 0.8164 - accuracy: 0.7087 - val_loss: 1.6638 - val_accuracy: 0.5081\n",
      "Epoch 33/100\n",
      "50000/50000 [==============================] - 8s 163us/step - loss: 0.7796 - accuracy: 0.7222 - val_loss: 1.6858 - val_accuracy: 0.5106\n",
      "Epoch 34/100\n",
      "50000/50000 [==============================] - 7s 149us/step - loss: 0.7497 - accuracy: 0.7320 - val_loss: 1.6983 - val_accuracy: 0.5053\n",
      "Epoch 35/100\n",
      "50000/50000 [==============================] - 8s 169us/step - loss: 0.7271 - accuracy: 0.7397 - val_loss: 1.7865 - val_accuracy: 0.5108\n",
      "Epoch 36/100\n",
      "50000/50000 [==============================] - 8s 162us/step - loss: 0.7053 - accuracy: 0.7477 - val_loss: 1.8099 - val_accuracy: 0.5038\n",
      "Epoch 37/100\n",
      "50000/50000 [==============================] - 7s 141us/step - loss: 0.6927 - accuracy: 0.7535 - val_loss: 1.8169 - val_accuracy: 0.5088\n",
      "Epoch 38/100\n",
      "50000/50000 [==============================] - 8s 152us/step - loss: 0.6731 - accuracy: 0.7600 - val_loss: 1.8474 - val_accuracy: 0.5024\n",
      "Epoch 39/100\n",
      "50000/50000 [==============================] - 7s 149us/step - loss: 0.6520 - accuracy: 0.7679 - val_loss: 1.9927 - val_accuracy: 0.4982\n",
      "Epoch 40/100\n",
      "50000/50000 [==============================] - 7s 134us/step - loss: 0.6391 - accuracy: 0.7710 - val_loss: 1.8912 - val_accuracy: 0.4981\n",
      "Epoch 41/100\n",
      "50000/50000 [==============================] - 7s 137us/step - loss: 0.6013 - accuracy: 0.7855 - val_loss: 1.9009 - val_accuracy: 0.5002\n",
      "Epoch 42/100\n",
      "50000/50000 [==============================] - 7s 133us/step - loss: 0.5773 - accuracy: 0.7937 - val_loss: 2.0313 - val_accuracy: 0.5067\n",
      "Epoch 43/100\n",
      "50000/50000 [==============================] - 7s 136us/step - loss: 0.5733 - accuracy: 0.7970 - val_loss: 2.0302 - val_accuracy: 0.5060\n",
      "Epoch 44/100\n",
      "50000/50000 [==============================] - 7s 131us/step - loss: 0.5517 - accuracy: 0.8035 - val_loss: 2.0754 - val_accuracy: 0.5043\n",
      "Epoch 45/100\n",
      "50000/50000 [==============================] - 7s 134us/step - loss: 0.5471 - accuracy: 0.8058 - val_loss: 2.0457 - val_accuracy: 0.4963\n",
      "Epoch 46/100\n",
      "50000/50000 [==============================] - 7s 135us/step - loss: 0.5156 - accuracy: 0.8146 - val_loss: 2.0903 - val_accuracy: 0.5052\n",
      "Epoch 47/100\n",
      "50000/50000 [==============================] - 9s 174us/step - loss: 0.5032 - accuracy: 0.8209 - val_loss: 2.1903 - val_accuracy: 0.4910\n",
      "Epoch 48/100\n",
      "50000/50000 [==============================] - 6s 129us/step - loss: 0.4906 - accuracy: 0.8259 - val_loss: 2.2125 - val_accuracy: 0.5035\n",
      "Epoch 49/100\n",
      "50000/50000 [==============================] - 7s 133us/step - loss: 0.4692 - accuracy: 0.8343 - val_loss: 2.2255 - val_accuracy: 0.5013\n",
      "Epoch 50/100\n",
      "50000/50000 [==============================] - 6s 129us/step - loss: 0.4582 - accuracy: 0.8414 - val_loss: 2.4069 - val_accuracy: 0.5093\n",
      "Epoch 51/100\n",
      "50000/50000 [==============================] - 7s 132us/step - loss: 0.4547 - accuracy: 0.8384 - val_loss: 2.3206 - val_accuracy: 0.5024\n",
      "Epoch 52/100\n",
      "50000/50000 [==============================] - 7s 131us/step - loss: 0.4365 - accuracy: 0.8469 - val_loss: 2.2614 - val_accuracy: 0.4948\n",
      "Epoch 53/100\n",
      "50000/50000 [==============================] - 6s 130us/step - loss: 0.4206 - accuracy: 0.8531 - val_loss: 2.6205 - val_accuracy: 0.4968\n"
     ]
    },
    {
     "name": "stdout",
     "output_type": "stream",
     "text": [
      "Epoch 54/100\n",
      "50000/50000 [==============================] - 7s 133us/step - loss: 0.4176 - accuracy: 0.8530 - val_loss: 2.4597 - val_accuracy: 0.4904\n",
      "Epoch 55/100\n",
      "50000/50000 [==============================] - 7s 138us/step - loss: 0.4016 - accuracy: 0.8601 - val_loss: 2.4931 - val_accuracy: 0.4952\n",
      "Epoch 56/100\n",
      "50000/50000 [==============================] - 7s 136us/step - loss: 0.3906 - accuracy: 0.8624 - val_loss: 2.5603 - val_accuracy: 0.4921\n",
      "Epoch 57/100\n",
      "50000/50000 [==============================] - 7s 149us/step - loss: 0.3743 - accuracy: 0.8690 - val_loss: 2.6632 - val_accuracy: 0.4908\n",
      "Epoch 58/100\n",
      "50000/50000 [==============================] - 7s 137us/step - loss: 0.3778 - accuracy: 0.8683 - val_loss: 2.6236 - val_accuracy: 0.4932\n",
      "Epoch 59/100\n",
      "50000/50000 [==============================] - 7s 132us/step - loss: 0.3555 - accuracy: 0.8763 - val_loss: 2.7191 - val_accuracy: 0.4952\n",
      "Epoch 60/100\n",
      "50000/50000 [==============================] - 7s 140us/step - loss: 0.3483 - accuracy: 0.8779 - val_loss: 2.4661 - val_accuracy: 0.5026\n",
      "Epoch 61/100\n",
      "50000/50000 [==============================] - 7s 134us/step - loss: 0.3337 - accuracy: 0.8840 - val_loss: 2.7074 - val_accuracy: 0.4990\n",
      "Epoch 62/100\n",
      "50000/50000 [==============================] - 7s 135us/step - loss: 0.3510 - accuracy: 0.8780 - val_loss: 2.6958 - val_accuracy: 0.4868\n",
      "Epoch 63/100\n",
      "50000/50000 [==============================] - 7s 136us/step - loss: 0.3219 - accuracy: 0.8866 - val_loss: 2.7684 - val_accuracy: 0.4932\n",
      "Epoch 64/100\n",
      "50000/50000 [==============================] - 7s 143us/step - loss: 0.3272 - accuracy: 0.8855 - val_loss: 2.8083 - val_accuracy: 0.4956\n",
      "Epoch 65/100\n",
      "50000/50000 [==============================] - 7s 137us/step - loss: 0.3119 - accuracy: 0.8927 - val_loss: 2.9401 - val_accuracy: 0.4996\n",
      "Epoch 66/100\n",
      "50000/50000 [==============================] - 7s 137us/step - loss: 0.3092 - accuracy: 0.8935 - val_loss: 2.5973 - val_accuracy: 0.4917\n",
      "Epoch 67/100\n",
      "50000/50000 [==============================] - 7s 142us/step - loss: 0.3125 - accuracy: 0.8906 - val_loss: 2.9593 - val_accuracy: 0.4867\n",
      "Epoch 68/100\n",
      "50000/50000 [==============================] - 7s 141us/step - loss: 0.3006 - accuracy: 0.8954 - val_loss: 2.7387 - val_accuracy: 0.4901\n",
      "Epoch 69/100\n",
      "50000/50000 [==============================] - 7s 141us/step - loss: 0.2757 - accuracy: 0.9033 - val_loss: 2.9597 - val_accuracy: 0.4942\n",
      "Epoch 70/100\n",
      "50000/50000 [==============================] - 7s 139us/step - loss: 0.2815 - accuracy: 0.9043 - val_loss: 3.0265 - val_accuracy: 0.4955\n",
      "Epoch 71/100\n",
      "50000/50000 [==============================] - 7s 142us/step - loss: 0.2706 - accuracy: 0.9067 - val_loss: 3.0412 - val_accuracy: 0.4936\n",
      "Epoch 72/100\n",
      "50000/50000 [==============================] - 7s 140us/step - loss: 0.2713 - accuracy: 0.9065 - val_loss: 2.6832 - val_accuracy: 0.4930\n",
      "Epoch 73/100\n",
      "50000/50000 [==============================] - 7s 139us/step - loss: 0.2670 - accuracy: 0.9089 - val_loss: 2.9866 - val_accuracy: 0.4983\n",
      "Epoch 74/100\n",
      "50000/50000 [==============================] - 7s 148us/step - loss: 0.2640 - accuracy: 0.9095 - val_loss: 2.9927 - val_accuracy: 0.4907\n",
      "Epoch 75/100\n",
      "50000/50000 [==============================] - 7s 139us/step - loss: 0.2597 - accuracy: 0.9099 - val_loss: 2.6922 - val_accuracy: 0.4873\n",
      "Epoch 76/100\n",
      "50000/50000 [==============================] - 7s 147us/step - loss: 0.2364 - accuracy: 0.9178 - val_loss: 3.0932 - val_accuracy: 0.4933\n",
      "Epoch 77/100\n",
      "50000/50000 [==============================] - 7s 134us/step - loss: 0.2380 - accuracy: 0.9192 - val_loss: 3.1441 - val_accuracy: 0.4911\n",
      "Epoch 78/100\n",
      "50000/50000 [==============================] - 7s 139us/step - loss: 0.2552 - accuracy: 0.9133 - val_loss: 2.8544 - val_accuracy: 0.4966\n",
      "Epoch 79/100\n",
      "50000/50000 [==============================] - 7s 140us/step - loss: 0.2320 - accuracy: 0.9201 - val_loss: 3.0451 - val_accuracy: 0.4846\n",
      "Epoch 80/100\n",
      "50000/50000 [==============================] - 7s 138us/step - loss: 0.2264 - accuracy: 0.9214 - val_loss: 3.2033 - val_accuracy: 0.4934\n",
      "Epoch 81/100\n",
      "50000/50000 [==============================] - 7s 137us/step - loss: 0.2283 - accuracy: 0.9220 - val_loss: 3.2820 - val_accuracy: 0.4890\n",
      "Epoch 82/100\n",
      "50000/50000 [==============================] - 7s 142us/step - loss: 0.2156 - accuracy: 0.9263 - val_loss: 2.9249 - val_accuracy: 0.4766\n",
      "Epoch 83/100\n",
      "50000/50000 [==============================] - 7s 138us/step - loss: 0.2244 - accuracy: 0.9217 - val_loss: 3.2214 - val_accuracy: 0.4897\n",
      "Epoch 84/100\n",
      "50000/50000 [==============================] - 7s 138us/step - loss: 0.2142 - accuracy: 0.9271 - val_loss: 3.0935 - val_accuracy: 0.4948\n",
      "Epoch 85/100\n",
      "50000/50000 [==============================] - 7s 145us/step - loss: 0.2127 - accuracy: 0.9274 - val_loss: 3.1570 - val_accuracy: 0.4963\n",
      "Epoch 86/100\n",
      "50000/50000 [==============================] - 7s 139us/step - loss: 0.2159 - accuracy: 0.9266 - val_loss: 3.1436 - val_accuracy: 0.4931\n",
      "Epoch 87/100\n",
      "50000/50000 [==============================] - 7s 139us/step - loss: 0.2107 - accuracy: 0.9280 - val_loss: 2.9909 - val_accuracy: 0.4974\n",
      "Epoch 88/100\n",
      "50000/50000 [==============================] - 7s 141us/step - loss: 0.2071 - accuracy: 0.9296 - val_loss: 3.3867 - val_accuracy: 0.4953\n",
      "Epoch 89/100\n",
      "50000/50000 [==============================] - 7s 139us/step - loss: 0.2083 - accuracy: 0.9282 - val_loss: 3.1875 - val_accuracy: 0.4802\n",
      "Epoch 90/100\n",
      "50000/50000 [==============================] - 7s 147us/step - loss: 0.2062 - accuracy: 0.9308 - val_loss: 3.0848 - val_accuracy: 0.4914\n",
      "Epoch 91/100\n",
      "50000/50000 [==============================] - 7s 137us/step - loss: 0.2091 - accuracy: 0.9295 - val_loss: 3.2819 - val_accuracy: 0.4801\n",
      "Epoch 92/100\n",
      "50000/50000 [==============================] - 7s 140us/step - loss: 0.1995 - accuracy: 0.9330 - val_loss: 3.2514 - val_accuracy: 0.4863\n",
      "Epoch 93/100\n",
      "50000/50000 [==============================] - 7s 142us/step - loss: 0.2042 - accuracy: 0.9302 - val_loss: 3.0787 - val_accuracy: 0.4844\n",
      "Epoch 94/100\n",
      "50000/50000 [==============================] - 7s 144us/step - loss: 0.1901 - accuracy: 0.9346 - val_loss: 3.4054 - val_accuracy: 0.4857\n",
      "Epoch 95/100\n",
      "50000/50000 [==============================] - 7s 148us/step - loss: 0.1895 - accuracy: 0.9361 - val_loss: 3.3052 - val_accuracy: 0.4978\n",
      "Epoch 96/100\n",
      "50000/50000 [==============================] - 7s 140us/step - loss: 0.1777 - accuracy: 0.9402 - val_loss: 3.1426 - val_accuracy: 0.4920\n",
      "Epoch 97/100\n",
      "50000/50000 [==============================] - 7s 141us/step - loss: 0.2005 - accuracy: 0.9313 - val_loss: 3.1323 - val_accuracy: 0.4942\n",
      "Epoch 98/100\n",
      "50000/50000 [==============================] - 7s 136us/step - loss: 0.1898 - accuracy: 0.9358 - val_loss: 2.6721 - val_accuracy: 0.4844\n",
      "Epoch 99/100\n",
      "50000/50000 [==============================] - 7s 142us/step - loss: 0.1657 - accuracy: 0.9447 - val_loss: 3.4759 - val_accuracy: 0.4907\n",
      "Epoch 100/100\n",
      "50000/50000 [==============================] - 7s 136us/step - loss: 0.1793 - accuracy: 0.9388 - val_loss: 3.1275 - val_accuracy: 0.4983\n"
     ]
    },
    {
     "data": {
      "text/plain": [
       "<keras.callbacks.callbacks.History at 0x23a0f8d4e80>"
      ]
     },
     "execution_count": 11,
     "metadata": {},
     "output_type": "execute_result"
    }
   ],
   "source": [
    "model.fit(x_train, y_train, \n",
    "          epochs=EPOCHS, \n",
    "          batch_size=BATCH_SIZE, \n",
    "          validation_data=(x_test, y_test), \n",
    "          shuffle=True)"
   ]
  },
  {
   "cell_type": "code",
   "execution_count": 13,
   "metadata": {},
   "outputs": [
    {
     "data": {
      "image/png": "[encoded data removed]",
      "text/plain": [
       "<Figure size 432x288 with 1 Axes>"
      ]
     },
     "metadata": {
      "needs_background": "light"
     },
     "output_type": "display_data"
    },
    {
     "data": {
      "image/png": "[encoded data removed]",
      "text/plain": [
       "<Figure size 432x288 with 1 Axes>"
      ]
     },
     "metadata": {
      "needs_background": "light"
     },
     "output_type": "display_data"
    }
   ],
   "source": [
    "import matplotlib.pyplot as plt\n",
    "\n",
    "\n",
    "train_loss = model.history.history[\"loss\"]\n",
    "valid_loss = model.history.history[\"val_loss\"]\n",
    "\n",
    "train_acc = model.history.history[\"accuracy\"]\n",
    "valid_acc = model.history.history[\"val_accuracy\"]\n",
    "\n",
    "plt.plot(range(len(train_loss)), train_loss, label=\"train loss\")\n",
    "plt.plot(range(len(valid_loss)), valid_loss, label=\"valid loss\")\n",
    "plt.legend()\n",
    "plt.title(\"Loss\")\n",
    "plt.show()\n",
    "\n",
    "plt.plot(range(len(train_acc)), train_acc, label=\"train accuracy\")\n",
    "plt.plot(range(len(valid_acc)), valid_acc, label=\"valid accuracy\")\n",
    "plt.legend()\n",
    "plt.title(\"Accuracy\")\n",
    "plt.show()"
   ]
  },
  {
   "cell_type": "code",
   "execution_count": null,
   "metadata": {},
   "outputs": [],
   "source": []
  },
  {
   "cell_type": "code",
   "execution_count": null,
   "metadata": {},
   "outputs": [],
   "source": []
  }
 ],
 "metadata": {
  "kernelspec": {
   "display_name": "Python 3",
   "language": "python",
   "name": "python3"
  },
  "language_info": {
   "codemirror_mode": {
    "name": "ipython",
    "version": 3
   },
   "file_extension": ".py",
   "mimetype": "text/x-python",
   "name": "python",
   "nbconvert_exporter": "python",
   "pygments_lexer": "ipython3",
   "version": "3.7.3"
  }
 },
 "nbformat": 4,
 "nbformat_minor": 2
}
