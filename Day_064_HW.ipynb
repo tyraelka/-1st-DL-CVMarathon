{
 "cells": [
  {
   "cell_type": "markdown",
   "metadata": {},
   "source": [
    "# 作業\n",
    "* 選擇迴歸資料集(右) - 交錯六群，在其他參數保持預設值的情況下，只允許調整隱藏層層數與神經元數量，且遵守下列限制   \n",
    "> * 隱藏層神經元總數最多 8 個 (即 : 可以單層 8 個，或兩層 5 個與 3 個)   \n",
    "> * 遞迴次數只允許跑到500次  \n",
    "* 在上述限制下，挑戰看看測試誤差 (Test Loss) 最低能到多少? 請回答你的神經元參數與 Test Loss 數"
   ]
  },
  {
   "cell_type": "markdown",
   "metadata": {
    "collapsed": true
   },
   "source": []
  },
  {
   "cell_type": "markdown",
   "metadata": {},
   "source": [
    "Result#1 單一隱藏層搭配8個神經元，Test loss = 0.017\n",
    "Result#2 單一隱藏層搭配7個神經元，Test loss = 0.013\n",
    "Result#3 單一隱藏層搭配6個神經元，Test loss = 0.017\n",
    "Result#4 單一隱藏層搭配5個神經元，Test loss = 0.019\n",
    "確認單一隱藏層搭配7個神經元為最佳解"
   ]
  },
  {
   "cell_type": "markdown",
   "metadata": {},
   "source": [
    "Result#1 二個隱藏層搭配5+3個神經元，Test loss = 0.014\n",
    "Result#2 二個隱藏層搭配5+2個神經元，Test loss = 0.019\n",
    "Result#3 二個隱藏層搭配4+4個神經元，Test loss = 0.015\n",
    "Result#4 二個隱藏層搭配4+3個神經元，Test loss = 0.015\n",
    "Result#5 二個隱藏層搭配3+5個神經元，Test loss = 0.018\n",
    "確認二層隱藏層搭配5+3個神經元為最佳解"
   ]
  },
  {
   "cell_type": "markdown",
   "metadata": {},
   "source": [
    "綜合以上，可以確定多層隱藏層搭配多個神經元不見得可以在有限遞迴次數內達最低Test loss，以上測試最佳解為 單一隱藏層搭配7個神經元"
   ]
  }
 ],
 "metadata": {
  "kernelspec": {
   "display_name": "Python 3",
   "language": "python",
   "name": "python3"
  },
  "language_info": {
   "codemirror_mode": {
    "name": "ipython",
    "version": 3
   },
   "file_extension": ".py",
   "mimetype": "text/x-python",
   "name": "python",
   "nbconvert_exporter": "python",
   "pygments_lexer": "ipython3",
   "version": "3.7.3"
  }
 },
 "nbformat": 4,
 "nbformat_minor": 2
}
